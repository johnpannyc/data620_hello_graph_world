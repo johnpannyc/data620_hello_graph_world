{
 "cells": [
  {
   "cell_type": "markdown",
   "metadata": {},
   "source": [
    "In this assignment we will be creating a basic network graph using the NetworkX pacakge for Python. \n",
    "First we will load the required pacakges."
   ]
  },
  {
   "cell_type": "code",
   "execution_count": 21,
   "metadata": {},
   "outputs": [],
   "source": [
    "import networkx as nx\n",
    "import matplotlib.pyplot as plt\n",
    "import pandas as pd\n",
    "import numpy as np"
   ]
  },
  {
   "cell_type": "markdown",
   "metadata": {},
   "source": [
    "#Set an empty graph G."
   ]
  },
  {
   "cell_type": "code",
   "execution_count": 22,
   "metadata": {},
   "outputs": [],
   "source": [
    "G = nx.Graph()"
   ]
  },
  {
   "cell_type": "markdown",
   "metadata": {},
   "source": [
    "#Define positions of nodes"
   ]
  },
  {
   "cell_type": "code",
   "execution_count": 23,
   "metadata": {},
   "outputs": [],
   "source": [
    "\n",
    "layout = {\"Jane\": [55, 20], \"Ike\": [45, 20], \n",
    "       \"Heather\": [35, 20], \"Fernando\": [25,30],\n",
    "       \"Garth\": [25, 10], \"Carol\": [15, 40], \n",
    "       \"Diane\": [15, 20], \"Ed\": [15, 0], \n",
    "       \"Andre\": [5, 30], \"Beverly\": [5, 10]}"
   ]
  },
  {
   "cell_type": "markdown",
   "metadata": {},
   "source": [
    "#Add nodes"
   ]
  },
  {
   "cell_type": "code",
   "execution_count": 24,
   "metadata": {},
   "outputs": [],
   "source": [
    "G.add_nodes_from(layout.keys())\n",
    "for nodey, position in layout.items():\n",
    "    G.node[nodey][\"layout\"] = position"
   ]
  },
  {
   "cell_type": "markdown",
   "metadata": {},
   "source": [
    "Add edges"
   ]
  },
  {
   "cell_type": "code",
   "execution_count": 25,
   "metadata": {},
   "outputs": [],
   "source": [
    "G.add_edges_from([(\"Jane\", \"Ike\"), (\"Ike\", \"Heather\"), (\"Heather\", \"Fernando\"), (\"Heather\", \"Garth\"), (\"Fernando\", \"Garth\"), (\"Fernando\", \"Diane\"), (\"Garth\", \"Diane\"), (\"Carol\", \"Diane\"), (\"Ed\", \"Diane\"), (\"Beverly\", \"Diane\"), (\"Andre\", \"Diane\"), (\"Carol\", \"Fernando\"), (\"Ed\", \"Garth\"), (\"Fernando\", \"Andre\"), (\"Garth\", \"Beverly\"), (\"Ed\", \"Beverly\"), (\"Carol\", \"Andre\"), (\"Andre\", \"Beverly\")])"
   ]
  },
  {
   "cell_type": "markdown",
   "metadata": {},
   "source": [
    "#Draw Graph"
   ]
  },
  {
   "cell_type": "code",
   "execution_count": 26,
   "metadata": {},
   "outputs": [
    {
     "data": {
      "image/png": "[encoded data removed]",
      "text/plain": [
       "<Figure size 432x288 with 1 Axes>"
      ]
     },
     "metadata": {},
     "output_type": "display_data"
    }
   ],
   "source": [
    "nx.draw(G, layout, node_color=\"grey\", edge_color=\"purple\",node_shape=\"s\", node_size=600, alpha=0.5, width=4)\n",
    "for i in layout:\n",
    "    layout[i][1] +=-1.0\n",
    "nx.draw_networkx_labels(G, layout, font_weight=\"bold\",font_size=10)\n",
    "plt.show()"
   ]
  },
  {
   "cell_type": "markdown",
   "metadata": {},
   "source": [
    "Krackhardt Graph Metrics"
   ]
  },
  {
   "cell_type": "code",
   "execution_count": 27,
   "metadata": {},
   "outputs": [
    {
     "name": "stdout",
     "output_type": "stream",
     "text": [
      "number of edges: 18\n",
      "number of nodes: 10\n",
      "graph diameter: 4\n"
     ]
    }
   ],
   "source": [
    "# number of edges\n",
    "print(\"number of edges: \" + str(G.number_of_edges()))\n",
    "\n",
    "# number of nodes\n",
    "print(\"number of nodes: \" + str(G.number_of_nodes()))\n",
    "\n",
    "# graph diameter\n",
    "print(\"graph diameter: \" + str(nx.diameter(G)))"
   ]
  },
  {
   "cell_type": "code",
   "execution_count": 30,
   "metadata": {},
   "outputs": [],
   "source": [
    "#references:\n",
    "#https://stackoverflow.com/questions/11804730/networkx-add-node-with-specific-position"
   ]
  },
  {
   "cell_type": "code",
   "execution_count": null,
   "metadata": {},
   "outputs": [],
   "source": []
  },
  {
   "cell_type": "code",
   "execution_count": null,
   "metadata": {},
   "outputs": [],
   "source": []
  }
 ],
 "metadata": {
  "kernelspec": {
   "display_name": "Python 3",
   "language": "python",
   "name": "python3"
  },
  "language_info": {
   "codemirror_mode": {
    "name": "ipython",
    "version": 3
   },
   "file_extension": ".py",
   "mimetype": "text/x-python",
   "name": "python",
   "nbconvert_exporter": "python",
   "pygments_lexer": "ipython3",
   "version": "3.6.5"
  }
 },
 "nbformat": 4,
 "nbformat_minor": 2
}
